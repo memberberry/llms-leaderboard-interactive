{
 "cells": [
  {
   "cell_type": "code",
   "execution_count": 1,
   "id": "d47d472f-8677-4a71-a49c-9e34f1f1e24a",
   "metadata": {},
   "outputs": [],
   "source": [
    "from fastapi import FastAPI\n",
    "from bs4 import BeautifulSoup\n",
    "import requests\n",
    "import uvicorn\n",
    "import asyncio"
   ]
  },
  {
   "cell_type": "code",
   "execution_count": 2,
   "id": "df478c03-1eeb-4a34-8118-df5f7aeabfd1",
   "metadata": {},
   "outputs": [],
   "source": [
    "app = FastAPI()"
   ]
  },
  {
   "cell_type": "code",
   "execution_count": 3,
   "id": "a297fb77-d26a-4091-8449-104a74ceaf81",
   "metadata": {},
   "outputs": [],
   "source": [
    "@app.get(\"/\")\n",
    "async def test():\n",
    "    return {\"message\": \"Hello World\"}"
   ]
  },
  {
   "cell_type": "code",
   "execution_count": 4,
   "id": "f06432f2-4002-4d6a-a247-224dc4a1756b",
   "metadata": {},
   "outputs": [],
   "source": [
    "@app.get(\"/llm_benchmarks/trustbit\")\n",
    "async def get_llm_benchmark_data_from_trustbit():\n",
    "    html = requests.get('https://www.trustbit.tech/en/llm-benchmarks').text\n",
    "    soup = BeautifulSoup(html, 'html.parser')\n",
    "    matching_anchors = [a for a in soup.find_all('a', href=True) if a['href'].startswith('/en/llm-leaderboard')]\n",
    "    print(matching_anchors)\n",
    "    return {\"message\": \", \".join(matching_anchors)}"
   ]
  },
  {
   "cell_type": "code",
   "execution_count": 10,
   "id": "8b0097de-cccd-4a47-b29d-8eb475306b28",
   "metadata": {},
   "outputs": [
    {
     "name": "stdout",
     "output_type": "stream",
     "text": [
      "url: https://www.trustbit.tech/en/llm-leaderboard-juli-2024\n",
      "url: https://www.trustbit.tech/en/llm-leaderboard-juli-2024\n",
      "url: https://www.trustbit.tech/en/llm-leaderboard-juli-2024\n",
      "url: https://www.trustbit.tech/en/llm-leaderboard-juli-2024\n",
      "url: https://www.trustbit.tech/en/llm-leaderboard-june-2024\n",
      "url: https://www.trustbit.tech/en/llm-leaderboard-mai-2024\n",
      "url: https://www.trustbit.tech/en/llm-leaderboard-april-2024\n",
      "url: https://www.trustbit.tech/en/llm-leaderboard-maerz-2024\n",
      "url: https://www.trustbit.tech/en/llm-leaderboard-februar-2024\n",
      "url: https://www.trustbit.tech/en/llm-leaderboard-dezember-2023\n",
      "url: https://www.trustbit.tech/en/llm-leaderboard-dezember-2023\n",
      "url: https://www.trustbit.tech/en/llm-leaderboard-dezember-2023\n",
      "url: https://www.trustbit.tech/en/llm-leaderboard-november-2023\n",
      "url: https://www.trustbit.tech/en/llm-leaderboard-oktober-2023\n",
      "url: https://www.trustbit.tech/en/llm-leaderboard-september-2023\n",
      "url: https://www.trustbit.tech/en/llm-leaderboardaugust2023\n",
      "url: https://www.trustbit.tech/en/llm-leaderboard-juni-2023\n",
      "url: https://www.trustbit.tech/en/llm-leaderboard-juli-2024\n"
     ]
    }
   ],
   "source": [
    "base_url = 'https://www.trustbit.tech'\n",
    "html = requests.get(f'{base_url}/en/llm-benchmarks').text\n",
    "soup = BeautifulSoup(html, 'html.parser')\n",
    "matching_anchors = [a for a in soup.find_all('a', href=True) if a['href'].startswith('/en/llm-leaderboard')]\n",
    "for a in matching_anchors:\n",
    "    print(f\"url: {base_url + a['href']}\") \n",
    "    benchmark_html = requests.get(base_url + a['href']).text"
   ]
  },
  {
   "cell_type": "code",
   "execution_count": 5,
   "id": "eeb81c3a-b463-4000-82e1-a622b9564fba",
   "metadata": {},
   "outputs": [
    {
     "name": "stderr",
     "output_type": "stream",
     "text": [
      "INFO:     Started server process [39318]\n",
      "INFO:     Waiting for application startup.\n",
      "INFO:     Application startup complete.\n",
      "INFO:     Uvicorn running on http://127.0.0.1:8000 (Press CTRL+C to quit)\n"
     ]
    },
    {
     "name": "stdout",
     "output_type": "stream",
     "text": [
      "INFO:     127.0.0.1:54568 - \"GET /docs HTTP/1.1\" 200 OK\n",
      "INFO:     127.0.0.1:54568 - \"GET /openapi.json HTTP/1.1\" 200 OK\n",
      "[]\n",
      "INFO:     127.0.0.1:54589 - \"GET /llm_benchmarks/trustbit HTTP/1.1\" 200 OK\n"
     ]
    }
   ],
   "source": [
    "if __name__ == \"__main__\":\n",
    "    config = uvicorn.Config(app)\n",
    "    server = uvicorn.Server(config)\n",
    "    loop = asyncio.get_running_loop()\n",
    "    loop.create_task(server.serve())"
   ]
  },
  {
   "cell_type": "code",
   "execution_count": null,
   "id": "0907d7d7-5553-4456-a4dc-a06c6ba51072",
   "metadata": {},
   "outputs": [],
   "source": []
  }
 ],
 "metadata": {
  "kernelspec": {
   "display_name": "Python 3 (ipykernel)",
   "language": "python",
   "name": "python3"
  },
  "language_info": {
   "codemirror_mode": {
    "name": "ipython",
    "version": 3
   },
   "file_extension": ".py",
   "mimetype": "text/x-python",
   "name": "python",
   "nbconvert_exporter": "python",
   "pygments_lexer": "ipython3",
   "version": "3.10.12"
  }
 },
 "nbformat": 4,
 "nbformat_minor": 5
}
